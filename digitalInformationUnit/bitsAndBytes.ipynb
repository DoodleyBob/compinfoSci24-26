{
 "cells": [
  {
   "cell_type": "markdown",
   "id": "0873fce7",
   "metadata": {},
   "source": [
    "# Bits and Bytes"
   ]
  },
  {
   "cell_type": "markdown",
   "id": "5e8422dd",
   "metadata": {},
   "source": [
    "Bit - the smallest unit of data. A bit is represented by either a 1 or a 0.\n",
    "\n",
    "* Differentiate between 10000 \"Mega Bits\" or \"Mega Bytes\"\n",
    "\n",
    "Byte - this is a string of 8 1's or 0's\n",
    "\n",
    "\n",
    "A --> 01000001\n",
    "Elijah --> 01000101 01101100 01101001 01101010 01100001 01101000\n",
    "Computer Science --> 01000011 01101111 01101101 01110000 01110101 01110100 01100101 01110010 00100000 01010011 01100011 01101001 01100101 01101110 01100011 01100101\n",
    "\n",
    "255 --> 00110010 00110101 00110101\n",
    "\n",
    "### Representing Color\n",
    "\n",
    "- Hexadecimal --> #33 99 ee\n",
    "- RGB --> (255, 145, 98) --> 00110010 00110101 00110101, 00110001 00110100 00110101, 00111001 00111000"
   ]
  },
  {
   "cell_type": "markdown",
   "id": "0248f1cf",
   "metadata": {},
   "source": [
    "### Series of Bits\n",
    "\n",
    "2 bits --> 4 different combinations: 00, 10, 01, 11\n",
    "3 bits --> 8 different combonations: 000, 001, 010, 100, 101, 110, 011, 111\n",
    "4 bits --> 16 different\n",
    "5 bits --> 32 different\n",
    "6 bits --> 64 different\n",
    "7 bits --> 128 different\n",
    "8 bits --> 256 different\n",
    "9 bits --> 512 different\n",
    "10 bits --> 1024 different\n"
   ]
  },
  {
   "cell_type": "markdown",
   "id": "54a3f7e8",
   "metadata": {},
   "source": [
    "### Bytes - is a combination of 8 bits"
   ]
  },
  {
   "cell_type": "markdown",
   "id": "49cdbb75",
   "metadata": {},
   "source": [
    "0000 0101"
   ]
  },
  {
   "cell_type": "markdown",
   "id": "4fb901e2",
   "metadata": {},
   "source": [
    "## Visualize Numbers in Decimal"
   ]
  },
  {
   "cell_type": "markdown",
   "id": "a37ae71b",
   "metadata": {},
   "source": [
    "234\n",
    "\n",
    "(2 x 100) + (3 x 1) + (4 x 1) = 234"
   ]
  },
  {
   "cell_type": "markdown",
   "id": "27a05836",
   "metadata": {},
   "source": [
    "## Binary Numbers"
   ]
  },
  {
   "cell_type": "markdown",
   "id": "bc67f144",
   "metadata": {},
   "source": [
    "            0   0   0   1\n",
    "\n",
    "64  32  16  8   4   2   1 --> Binary Places\n",
    "            (8x0)+(4x0)+(2x0)+(1x1) = 1\n",
    "\n",
    "0   0   1   1   0   1   0\n",
    "        (16x1)+(8x1)+(4x0)+(2x1)+(1x0) = 26\n",
    "\n"
   ]
  },
  {
   "cell_type": "markdown",
   "id": "9677e268",
   "metadata": {},
   "source": [
    "                                        1       0       0       1       1       1\n",
    "____  -  ____  -  ____  -  ____  -  ____  -  ____  -  ____  -  ____  -  ____  -  ____  -  ____\n",
    "\n",
    "1024     512     256     128     64      32      16       8       4       2       1\n",
    "\n",
    "100111 = 39\n",
    "101011 = 43\n",
    "100000 = 32\n",
    "1000000 = 64\n",
    "10000 = 16\n",
    "\n",
    "0111 = 7\n",
    "011111 = 31"
   ]
  },
  {
   "cell_type": "markdown",
   "id": "281eadfa",
   "metadata": {},
   "source": []
  }
 ],
 "metadata": {
  "language_info": {
   "name": "python"
  }
 },
 "nbformat": 4,
 "nbformat_minor": 5
}
