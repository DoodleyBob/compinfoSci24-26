{
 "cells": [
  {
   "cell_type": "markdown",
   "id": "0873fce7",
   "metadata": {},
   "source": [
    "# Bits and Bytes"
   ]
  },
  {
   "cell_type": "markdown",
   "id": "5e8422dd",
   "metadata": {},
   "source": [
    "Bit - the smallest unit of data. A bit is represented by either a 1 or a 0.\n",
    "\n",
    "* Differentiate between 10000 \"Mega Bits\" or \"Mega Bytes\"\n",
    "\n",
    "Byte - this is a string of 8 1's or 0's\n",
    "\n",
    "\n",
    "A --> 01000001\n",
    "Elijah --> 01000101 01101100 01101001 01101010 01100001 01101000\n",
    "Computer Science --> 01000011 01101111 01101101 01110000 01110101 01110100 01100101 01110010 00100000 01010011 01100011 01101001 01100101 01101110 01100011 01100101\n",
    "\n",
    "255 --> 00110010 00110101 00110101\n",
    "\n",
    "### Representing Color\n",
    "\n",
    "- Hexadecimal --> #33 99 ee\n",
    "- RGB --> (255, 145, 98) --> 00110010 00110101 00110101, 00110001 00110100 00110101, 00111001 00111000"
   ]
  },
  {
   "cell_type": "markdown",
   "id": "0248f1cf",
   "metadata": {},
   "source": [
    "### Series of Bits\n",
    "\n",
    "2 bits --> 4 different combinations: 00, 10, 01, 11\n",
    "3 bits --> 8 different combonations: 000, 001, 010, 100, 101, 110, 011, 111\n",
    "4 bits --> 16 different\n",
    "5 bits --> 32 different\n",
    "6 bits --> 64 different\n",
    "7 bits --> 128 different\n",
    "8 bits --> 256 different\n",
    "9 bits --> 512 different\n",
    "10 bits --> 1024 different\n"
   ]
  },
  {
   "cell_type": "markdown",
   "id": "54a3f7e8",
   "metadata": {},
   "source": [
    "### Bytes - is a combination of 8 bits"
   ]
  },
  {
   "cell_type": "markdown",
   "id": "49cdbb75",
   "metadata": {},
   "source": [
    "0000 0101"
   ]
  },
  {
   "cell_type": "markdown",
   "id": "4fb901e2",
   "metadata": {},
   "source": [
    "## Visualize Numbers in Decimal"
   ]
  },
  {
   "cell_type": "markdown",
   "id": "a37ae71b",
   "metadata": {},
   "source": [
    "234\n",
    "\n",
    "(2 x 100) + (3 x 1) + (4 x 1) = 234"
   ]
  },
  {
   "cell_type": "markdown",
   "id": "27a05836",
   "metadata": {},
   "source": [
    "## Binary Numbers"
   ]
  },
  {
   "cell_type": "markdown",
   "id": "bc67f144",
   "metadata": {},
   "source": [
    "            0   0   0   1\n",
    "\n",
    "64  32  16  8   4   2   1 --> Binary Places\n",
    "            (8x0)+(4x0)+(2x0)+(1x1) = 1\n",
    "\n",
    "0   0   1   1   0   1   0\n",
    "        (16x1)+(8x1)+(4x0)+(2x1)+(1x0) = 26\n",
    "\n"
   ]
  },
  {
   "cell_type": "markdown",
   "id": "9677e268",
   "metadata": {},
   "source": [
    "                                        1       0       0       1       1       1\n",
    "____  -  ____  -  ____  -  ____  -  ____  -  ____  -  ____  -  ____  -  ____  -  ____  -  ____\n",
    "\n",
    "1024     512     256     128     64      32      16       8       4       2       1\n",
    "\n",
    "100111 = 39\n",
    "101011 = 43\n",
    "100000 = 32\n",
    "1000000 = 64\n",
    "10000 = 16\n",
    "\n",
    "0111 = 7\n",
    "011111 = 31"
   ]
  },
  {
   "cell_type": "markdown",
   "id": "281eadfa",
   "metadata": {},
   "source": [
    "## Limitation of storing numbers"
   ]
  },
  {
   "cell_type": "markdown",
   "id": "27af1ad3",
   "metadata": {},
   "source": [
    "<b>Integer</b> - Non-fractional real number. Any number without a decimal.\n",
    "\n",
    "Integers can be negative or positive:\n",
    "120, 10, 0, -20, 42\n",
    "\n",
    "#### Example of a computer using four bits to represent an integer\n",
    "\n",
    "0001\n",
    "\n",
    "<pre>+/-     4       2       1\n",
    "\n",
    "sign    2^2     2^1     2^0</pre>"
   ]
  },
  {
   "cell_type": "markdown",
   "id": "4f2c12de",
   "metadata": {},
   "source": [
    "What would happen if we ran a program like this on the 4-bit computer, where the largest possible integer is 7?\n",
    "\n",
    "<b>Overflow</b> - When a computer reaches it's storage limit capabilities, so processing numbers any further would create an overflow error."
   ]
  },
  {
   "cell_type": "code",
   "execution_count": 2,
   "id": "d511966a",
   "metadata": {},
   "outputs": [
    {
     "name": "stdout",
     "output_type": "stream",
     "text": [
      "8\n"
     ]
    }
   ],
   "source": [
    "x = 7\n",
    "y = x + 1 # 8\n",
    "# On a 4 bit machine you would get an error:\n",
    "# Overflow error or Number is too large\n",
    "# Could truncate (change 8 to 7)\n",
    "# OR wrap the number around, (instead of 8, it would get stored as 1)\n",
    "\n",
    "print(y)"
   ]
  },
  {
   "cell_type": "markdown",
   "id": "52952ace",
   "metadata": {},
   "source": [
    "#### Modern computer systems use 64bit architectures.\n",
    "\n",
    "This means that modern computers can store numbers safely up to:\n",
    "## 9,007,199,254,740,991    OR 2^53 -1"
   ]
  },
  {
   "cell_type": "markdown",
   "id": "e85be051",
   "metadata": {},
   "source": [
    "### Floating-point representation"
   ]
  },
  {
   "cell_type": "markdown",
   "id": "f82d42b1",
   "metadata": {},
   "source": [
    "Floating-point or Decimal numbers are trickier to represent in computer memory.\n",
    "\n",
    "Numbers like: \n",
    "<pre>2/5     1.234       9.99999999     3.1415...</pre>"
   ]
  },
  {
   "cell_type": "markdown",
   "id": "53113c5e",
   "metadata": {},
   "source": [
    "Computers use <b>floating-point representation</b>:\n",
    "\n",
    "<pre>a number is multiplied by a base that's raised to an exponent:\n",
    "300 = 3 x 10^2\n",
    "\n",
    "Since we use BINARY:\n",
    "128 = 1 x 2^7\n",
    "256 = 1 x 2^8</pre>"
   ]
  },
  {
   "cell_type": "markdown",
   "id": "448a6c8c",
   "metadata": {},
   "source": [
    "<pre>Numbers between powers of 2:\n",
    "\n",
    "160 = 1.25 x 2^7\n",
    "192 = 1.50 x 2^7\n",
    "224 = 1.75 x 2^7</pre>"
   ]
  },
  {
   "cell_type": "markdown",
   "id": "6911dbbc",
   "metadata": {},
   "source": [
    "### What about non-Integers\n",
    "\n",
    "<pre>\n",
    "0.50 = 1 x 2^-1\n",
    "0.25 = 1 x 2^-2\n",
    "</pre>\n",
    "\n",
    "### What about floating-points\n",
    "\n",
    "<pre>\n",
    "0.750 = 1.5 x 2^-1\n",
    "0.375 = 1.5 x 2^-2\n",
    "</pre>\n",
    "\n",
    "<pre>0.375 = 0011111111011000000000000000000000000000000000000000000000000000\n",
    "1 bit --> the sign\n",
    "11 bits --> exponent\n",
    "52 bits --> number in front of the decimal\n",
    "</pre>"
   ]
  },
  {
   "cell_type": "markdown",
   "id": "126a7bbd",
   "metadata": {},
   "source": [
    "### Roundoff errors"
   ]
  },
  {
   "cell_type": "markdown",
   "id": "99d71fbd",
   "metadata": {},
   "source": [
    "All floating point numbers cannot be fully represented using binary\n",
    "\n",
    "1/3 = 0.33333...\n",
    "\n",
    "1/3 = 1.3 x 2^-2 --> .0101010101010101..."
   ]
  },
  {
   "cell_type": "code",
   "execution_count": 3,
   "id": "72b70c81",
   "metadata": {},
   "outputs": [
    {
     "name": "stdout",
     "output_type": "stream",
     "text": [
      "0.30000000000000004\n"
     ]
    }
   ],
   "source": [
    "result = 0.1 + 0.1 + 0.1\n",
    "print(result)"
   ]
  },
  {
   "cell_type": "markdown",
   "id": "1ff206ab",
   "metadata": {},
   "source": [
    "The more bits we can use, the more precise our numbers and calculations will be. Modern 64-bit systems offer a high enough precision for low-stakes calculations."
   ]
  },
  {
   "cell_type": "markdown",
   "id": "1f952b44",
   "metadata": {},
   "source": []
  }
 ],
 "metadata": {
  "kernelspec": {
   "display_name": "Python 3",
   "language": "python",
   "name": "python3"
  },
  "language_info": {
   "codemirror_mode": {
    "name": "ipython",
    "version": 3
   },
   "file_extension": ".py",
   "mimetype": "text/x-python",
   "name": "python",
   "nbconvert_exporter": "python",
   "pygments_lexer": "ipython3",
   "version": "3.12.1"
  }
 },
 "nbformat": 4,
 "nbformat_minor": 5
}
